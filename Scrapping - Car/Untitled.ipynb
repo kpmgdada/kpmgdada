{
 "cells": [
  {
   "cell_type": "code",
   "execution_count": 245,
   "metadata": {
    "scrolled": true
   },
   "outputs": [],
   "source": [
    "from selenium import webdriver\n",
    "from selenium.webdriver.common.by import By\n",
    "from selenium.webdriver.support.ui import WebDriverWait\n",
    "from selenium.webdriver.support import expected_conditions as EC\n",
    "from selenium.webdriver.common.keys import Keys\n",
    "import time\n",
    "\n",
    "import pandas as pd\n",
    "\n",
    "# website = \"http://www.python.org\"\n",
    "website =\"https://membership.ribo.com/Thinclient/Public/PR/EN/#/forms/new/?table=0x800000000000003D&form=0x800000000000004D&command=0x8000000000000C2D\"\n",
    "\n",
    "driver = webdriver.Firefox()\n",
    "driver.get(website)\n",
    "assert \"RIBO\" in driver.title\n",
    "time.sleep(2)\n",
    "elem = driver.find_element_by_name(\"pid35\").click()\n",
    "\n",
    "import pandas as pd\n",
    "\n",
    "dfcolumns= ['Reg Num','Name','Address','Status','Phone','Broker']\n",
    "# dfcolumns= [0,1,2,3,4,5]\n",
    "\n",
    "data=pd.DataFrame(columns=dfcolumns)"
   ]
  },
  {
   "cell_type": "code",
   "execution_count": 248,
   "metadata": {
    "scrolled": true
   },
   "outputs": [
    {
     "ename": "TypeError",
     "evalue": "can only concatenate str (not \"int\") to str",
     "output_type": "error",
     "traceback": [
      "\u001b[1;31m---------------------------------------------------------------------------\u001b[0m",
      "\u001b[1;31mTypeError\u001b[0m                                 Traceback (most recent call last)",
      "\u001b[1;32m<ipython-input-248-322146635332>\u001b[0m in \u001b[0;36m<module>\u001b[1;34m\u001b[0m\n\u001b[0;32m     27\u001b[0m             \u001b[0motherpage\u001b[0m\u001b[1;33m.\u001b[0m\u001b[0mclick\u001b[0m\u001b[1;33m(\u001b[0m\u001b[1;33m)\u001b[0m\u001b[1;33m\u001b[0m\u001b[1;33m\u001b[0m\u001b[0m\n\u001b[1;32m---> 28\u001b[1;33m             \u001b[0mprint\u001b[0m\u001b[1;33m(\u001b[0m\u001b[1;34m\"Page:\"\u001b[0m\u001b[1;33m+\u001b[0m\u001b[0mpage\u001b[0m\u001b[1;33m)\u001b[0m\u001b[1;33m\u001b[0m\u001b[1;33m\u001b[0m\u001b[0m\n\u001b[0m\u001b[0;32m     29\u001b[0m         \u001b[1;32mexcept\u001b[0m\u001b[1;33m:\u001b[0m\u001b[1;33m\u001b[0m\u001b[1;33m\u001b[0m\u001b[0m\n",
      "\u001b[1;31mTypeError\u001b[0m: can only concatenate str (not \"int\") to str",
      "\nDuring handling of the above exception, another exception occurred:\n",
      "\u001b[1;31mTypeError\u001b[0m                                 Traceback (most recent call last)",
      "\u001b[1;32m<ipython-input-248-322146635332>\u001b[0m in \u001b[0;36m<module>\u001b[1;34m\u001b[0m\n\u001b[0;32m     28\u001b[0m             \u001b[0mprint\u001b[0m\u001b[1;33m(\u001b[0m\u001b[1;34m\"Page:\"\u001b[0m\u001b[1;33m+\u001b[0m\u001b[0mpage\u001b[0m\u001b[1;33m)\u001b[0m\u001b[1;33m\u001b[0m\u001b[1;33m\u001b[0m\u001b[0m\n\u001b[0;32m     29\u001b[0m         \u001b[1;32mexcept\u001b[0m\u001b[1;33m:\u001b[0m\u001b[1;33m\u001b[0m\u001b[1;33m\u001b[0m\u001b[0m\n\u001b[1;32m---> 30\u001b[1;33m             \u001b[0mprint\u001b[0m\u001b[1;33m(\u001b[0m\u001b[1;34m\"Complete Search:\"\u001b[0m\u001b[1;33m+\u001b[0m\u001b[0mj\u001b[0m\u001b[1;33m)\u001b[0m\u001b[1;33m\u001b[0m\u001b[1;33m\u001b[0m\u001b[0m\n\u001b[0m\u001b[0;32m     31\u001b[0m             \u001b[1;32mbreak\u001b[0m\u001b[1;33m\u001b[0m\u001b[1;33m\u001b[0m\u001b[0m\n\u001b[0;32m     32\u001b[0m \u001b[1;33m\u001b[0m\u001b[0m\n",
      "\u001b[1;31mTypeError\u001b[0m: can only concatenate str (not \"int\") to str"
     ]
    }
   ],
   "source": [
    "for j in range(1,4):\n",
    "    xpath = \"//*[@id='FirmSearchParams']//*[contains(@id,'firmLicense')]//*[@class='col-sm-8']//*[@type='text']\"\n",
    "    textbox=driver.find_element_by_xpath(xpath)\n",
    "    # textbox=driver.find_elements_by_tag_name(\"broker\")\n",
    "    # textbox.click()\n",
    "    textbox.send_keys(str(j),Keys.ENTER)\n",
    "    time.sleep(1)\n",
    "    page=1\n",
    "    for i in range(999999):\n",
    "        xpath = \"//*[@id='FirmResultTable']//*[contains(@class,'col-xs-12')]//*[contains(@href,'#')]\"\n",
    "        afirm=driver.find_elements_by_xpath(xpath)\n",
    "        for onefirm in afirm:\n",
    "            onefirm.click()\n",
    "            xpath = \"//*[@id='companyProfileDiv']//*[contains(@class,'col-sm-8')]\"\n",
    "            firm=driver.find_elements_by_xpath(xpath)\n",
    "            onedata=[firm[0].text,firm[1].text,firm[2].text,firm[3].text,firm[4].text,firm[5].text]\n",
    "            onefirm_data=pd.DataFrame([[firm[0].text,firm[1].text,firm[2].text,firm[3].text,firm[4].text,firm[5].text]],columns=dfcolumns)\n",
    "            data=data.append(onefirm_data)\n",
    "            xpath = \"//*[@class='k-icon k-i-close']\"\n",
    "            closing=driver.find_element_by_xpath(xpath)\n",
    "            closing.click()\n",
    "        page=page+1\n",
    "        xpath = \"//*[@data-lp='\"+str(page)+\"']//*[@href='javascript:void(0);']\"\n",
    "        data\n",
    "        try:\n",
    "            otherpage=driver.find_element_by_xpath(xpath)\n",
    "            otherpage.click()\n",
    "            print(\"Page:\"+page)\n",
    "        except:\n",
    "            print(\"Complete Search:\"+j)\n",
    "            break\n",
    "\n",
    "        time.sleep(0.5)"
   ]
  },
  {
   "cell_type": "code",
   "execution_count": 240,
   "metadata": {
    "scrolled": true
   },
   "outputs": [],
   "source": [
    "data.to_csv(\"Brokerlist.csv\", index=False)"
   ]
  },
  {
   "cell_type": "code",
   "execution_count": 250,
   "metadata": {},
   "outputs": [
    {
     "data": {
      "text/plain": [
       "17"
      ]
     },
     "execution_count": 250,
     "metadata": {},
     "output_type": "execute_result"
    }
   ],
   "source": [
    "len(data)"
   ]
  }
 ],
 "metadata": {
  "kernelspec": {
   "display_name": "Python 3",
   "language": "python",
   "name": "python3"
  },
  "language_info": {
   "codemirror_mode": {
    "name": "ipython",
    "version": 3
   },
   "file_extension": ".py",
   "mimetype": "text/x-python",
   "name": "python",
   "nbconvert_exporter": "python",
   "pygments_lexer": "ipython3",
   "version": "3.7.1"
  }
 },
 "nbformat": 4,
 "nbformat_minor": 2
}
