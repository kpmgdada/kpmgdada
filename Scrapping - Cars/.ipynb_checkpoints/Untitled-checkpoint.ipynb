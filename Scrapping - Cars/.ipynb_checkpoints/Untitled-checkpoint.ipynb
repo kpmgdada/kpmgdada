{
 "cells": [
  {
   "cell_type": "code",
   "execution_count": 214,
   "metadata": {
    "scrolled": true
   },
   "outputs": [],
   "source": [
    "from selenium import webdriver\n",
    "from selenium.webdriver.common.by import By\n",
    "from selenium.webdriver.support.ui import WebDriverWait\n",
    "from selenium.webdriver.support import expected_conditions as EC\n",
    "from selenium.webdriver.common.keys import Keys\n",
    "import time\n",
    "\n",
    "import pandas as pd\n",
    "\n",
    "# website = \"http://www.python.org\"\n",
    "website =\"https://membership.ribo.com/Thinclient/Public/PR/EN/#/forms/new/?table=0x800000000000003D&form=0x800000000000004D&command=0x8000000000000C2D\"\n",
    "\n",
    "driver = webdriver.Firefox()\n",
    "driver.get(website)\n",
    "assert \"RIBO\" in driver.title\n",
    "time.sleep(2)\n",
    "elem = driver.find_element_by_name(\"pid35\").click()\n",
    "\n",
    "import pandas as pd\n",
    "\n",
    "dfcolumns= ['Reg Num','Name','Address','Status','Phone','Broker']\n",
    "# dfcolumns= [0,1,2,3,4,5]\n",
    "\n",
    "data=pd.DataFrame(columns=dfcolumns)"
   ]
  },
  {
   "cell_type": "code",
   "execution_count": null,
   "metadata": {
    "scrolled": true
   },
   "outputs": [],
   "source": [
    "\n",
    "\n",
    "for i in range(2,9999):\n",
    "    xpath = \"//*[@id='FirmSearchParams']//*[contains(@id,'firmLicense')]//*[@class='col-sm-8']//*[@type='text']\"\n",
    "    textbox=driver.find_element_by_xpath(xpath)\n",
    "    # textbox=driver.find_elements_by_tag_name(\"broker\")\n",
    "    # textbox.click()\n",
    "    textbox.send_keys(str(i),Keys.ENTER)\n",
    "\n",
    "\n",
    "    time.sleep(1)\n",
    "    page=1\n",
    "    for i in range(999999):\n",
    "        xpath = \"//*[@id='FirmResultTable']//*[contains(@class,'col-xs-12')]//*[contains(@href,'#')]\"\n",
    "        afirm=driver.find_elements_by_xpath(xpath)\n",
    "        for onefirm in afirm:\n",
    "            onefirm.click()\n",
    "            xpath = \"//*[@id='companyProfileDiv']//*[contains(@class,'col-sm-8')]\"\n",
    "            firm=driver.find_elements_by_xpath(xpath)\n",
    "            onedata=[firm[0].text,firm[1].text,firm[2].text,firm[3].text,firm[4].text,firm[5].text]\n",
    "            onefirm_data=pd.DataFrame([[firm[0].text,firm[1].text,firm[2].text,firm[3].text,firm[4].text,firm[5].text]],columns=dfcolumns)\n",
    "            data=data.append(onefirm_data)\n",
    "            xpath = \"//*[@class='k-icon k-i-close']\"\n",
    "            closing=driver.find_element_by_xpath(xpath)\n",
    "            closing.click()\n",
    "        page=page+1\n",
    "        xpath = \"//*[@data-lp='\"+str(page)+\"']//*[@href='javascript:void(0);']\"\n",
    "\n",
    "        try:\n",
    "            otherpage=driver.find_element_by_xpath(xpath)\n",
    "            otherpage.click()      \n",
    "        except:\n",
    "            print(\"Completed\")\n",
    "            break\n",
    "\n",
    "        time.sleep(0.5)"
   ]
  },
  {
   "cell_type": "code",
   "execution_count": 211,
   "metadata": {
    "scrolled": true
   },
   "outputs": [],
   "source": [
    "data.to_csv(\"Brokerlist.csv\", index=False)"
   ]
  },
  {
   "cell_type": "code",
   "execution_count": null,
   "metadata": {},
   "outputs": [],
   "source": []
  }
 ],
 "metadata": {
  "kernelspec": {
   "display_name": "Python 3",
   "language": "python",
   "name": "python3"
  },
  "language_info": {
   "codemirror_mode": {
    "name": "ipython",
    "version": 3
   },
   "file_extension": ".py",
   "mimetype": "text/x-python",
   "name": "python",
   "nbconvert_exporter": "python",
   "pygments_lexer": "ipython3",
   "version": "3.7.1"
  }
 },
 "nbformat": 4,
 "nbformat_minor": 2
}
