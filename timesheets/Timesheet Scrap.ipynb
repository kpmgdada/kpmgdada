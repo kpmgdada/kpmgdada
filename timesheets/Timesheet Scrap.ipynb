{
 "cells": [
  {
   "cell_type": "code",
   "execution_count": 42,
   "metadata": {},
   "outputs": [
    {
     "ename": "com_error",
     "evalue": "(-2147352567, 'Exception occurred.', (4096, 'Microsoft Outlook', \"We can't open 'BS Missing Time and National DA GIA Availability Dashboard & Staff Schedules - M...'. It's possible the file is already open, or you don't have permission to open it.\\n\\nTo check your permissions, right-click the file folder, then click Properties.\", None, 0, -2147287038), None)",
     "output_type": "error",
     "traceback": [
      "\u001b[1;31m---------------------------------------------------------------------------\u001b[0m",
      "\u001b[1;31mcom_error\u001b[0m                                 Traceback (most recent call last)",
      "\u001b[1;32m<ipython-input-42-97015531dfff>\u001b[0m in \u001b[0;36m<module>\u001b[1;34m()\u001b[0m\n\u001b[0;32m      5\u001b[0m     \u001b[1;32mif\u001b[0m \u001b[0mfile\u001b[0m\u001b[1;33m.\u001b[0m\u001b[0mendswith\u001b[0m\u001b[1;33m(\u001b[0m\u001b[1;34m\".msg\"\u001b[0m\u001b[1;33m)\u001b[0m\u001b[1;33m:\u001b[0m\u001b[1;33m\u001b[0m\u001b[0m\n\u001b[0;32m      6\u001b[0m         \u001b[0moutlook\u001b[0m \u001b[1;33m=\u001b[0m \u001b[0mwin32com\u001b[0m\u001b[1;33m.\u001b[0m\u001b[0mclient\u001b[0m\u001b[1;33m.\u001b[0m\u001b[0mDispatch\u001b[0m\u001b[1;33m(\u001b[0m\u001b[1;34m\"Outlook.Application\"\u001b[0m\u001b[1;33m)\u001b[0m\u001b[1;33m.\u001b[0m\u001b[0mGetNamespace\u001b[0m\u001b[1;33m(\u001b[0m\u001b[1;34m\"MAPI\"\u001b[0m\u001b[1;33m)\u001b[0m\u001b[1;33m\u001b[0m\u001b[0m\n\u001b[1;32m----> 7\u001b[1;33m         \u001b[0mmsg\u001b[0m \u001b[1;33m=\u001b[0m \u001b[0moutlook\u001b[0m\u001b[1;33m.\u001b[0m\u001b[0mOpenSharedItem\u001b[0m\u001b[1;33m(\u001b[0m\u001b[0mfile\u001b[0m\u001b[1;33m)\u001b[0m\u001b[1;33m\u001b[0m\u001b[0m\n\u001b[0m\u001b[0;32m      8\u001b[0m         \u001b[0matt\u001b[0m\u001b[1;33m=\u001b[0m\u001b[0mmsg\u001b[0m\u001b[1;33m.\u001b[0m\u001b[0mAttachments\u001b[0m\u001b[1;33m\u001b[0m\u001b[0m\n\u001b[0;32m      9\u001b[0m         \u001b[1;32mfor\u001b[0m \u001b[0mi\u001b[0m \u001b[1;32min\u001b[0m \u001b[0matt\u001b[0m\u001b[1;33m:\u001b[0m\u001b[1;33m\u001b[0m\u001b[0m\n",
      "\u001b[1;32mC:\\Program Files (x86)\\Microsoft Visual Studio\\Shared\\Anaconda3_64\\lib\\site-packages\\win32com\\client\\dynamic.py\u001b[0m in \u001b[0;36mOpenSharedItem\u001b[1;34m(self, Path)\u001b[0m\n",
      "\u001b[1;31mcom_error\u001b[0m: (-2147352567, 'Exception occurred.', (4096, 'Microsoft Outlook', \"We can't open 'BS Missing Time and National DA GIA Availability Dashboard & Staff Schedules - M...'. It's possible the file is already open, or you don't have permission to open it.\\n\\nTo check your permissions, right-click the file folder, then click Properties.\", None, 0, -2147287038), None)"
     ]
    }
   ],
   "source": [
    "import win32com.client\n",
    "import os\n",
    "files = [f for f in os.listdir('.') if os.path.isfile(f)]\n",
    "for file in files:\n",
    "    if file.endswith(\".msg\"):\n",
    "        outlook = win32com.client.Dispatch(\"Outlook.Application\").GetNamespace(\"MAPI\")\n",
    "        msg = outlook.OpenSharedItem(file)        \n",
    "        att=msg.Attachments\n",
    "        for i in att:\n",
    "            i.SaveAsFile(os.path.join(Pathname, i.FileName))#Saves the file with the attachment name\n"
   ]
  },
  {
   "cell_type": "code",
   "execution_count": 43,
   "metadata": {},
   "outputs": [
    {
     "ename": "com_error",
     "evalue": "(-2147352567, 'Exception occurred.', (4096, 'Microsoft Outlook', \"We can't open 'BS Missing Time and National DA GIA Availability Dashboard & Staff Schedules - M...'. It's possible the file is already open, or you don't have permission to open it.\\n\\nTo check your permissions, right-click the file folder, then click Properties.\", None, 0, -2147287038), None)",
     "output_type": "error",
     "traceback": [
      "\u001b[1;31m---------------------------------------------------------------------------\u001b[0m",
      "\u001b[1;31mcom_error\u001b[0m                                 Traceback (most recent call last)",
      "\u001b[1;32m<ipython-input-43-97015531dfff>\u001b[0m in \u001b[0;36m<module>\u001b[1;34m()\u001b[0m\n\u001b[0;32m      5\u001b[0m     \u001b[1;32mif\u001b[0m \u001b[0mfile\u001b[0m\u001b[1;33m.\u001b[0m\u001b[0mendswith\u001b[0m\u001b[1;33m(\u001b[0m\u001b[1;34m\".msg\"\u001b[0m\u001b[1;33m)\u001b[0m\u001b[1;33m:\u001b[0m\u001b[1;33m\u001b[0m\u001b[0m\n\u001b[0;32m      6\u001b[0m         \u001b[0moutlook\u001b[0m \u001b[1;33m=\u001b[0m \u001b[0mwin32com\u001b[0m\u001b[1;33m.\u001b[0m\u001b[0mclient\u001b[0m\u001b[1;33m.\u001b[0m\u001b[0mDispatch\u001b[0m\u001b[1;33m(\u001b[0m\u001b[1;34m\"Outlook.Application\"\u001b[0m\u001b[1;33m)\u001b[0m\u001b[1;33m.\u001b[0m\u001b[0mGetNamespace\u001b[0m\u001b[1;33m(\u001b[0m\u001b[1;34m\"MAPI\"\u001b[0m\u001b[1;33m)\u001b[0m\u001b[1;33m\u001b[0m\u001b[0m\n\u001b[1;32m----> 7\u001b[1;33m         \u001b[0mmsg\u001b[0m \u001b[1;33m=\u001b[0m \u001b[0moutlook\u001b[0m\u001b[1;33m.\u001b[0m\u001b[0mOpenSharedItem\u001b[0m\u001b[1;33m(\u001b[0m\u001b[0mfile\u001b[0m\u001b[1;33m)\u001b[0m\u001b[1;33m\u001b[0m\u001b[0m\n\u001b[0m\u001b[0;32m      8\u001b[0m         \u001b[0matt\u001b[0m\u001b[1;33m=\u001b[0m\u001b[0mmsg\u001b[0m\u001b[1;33m.\u001b[0m\u001b[0mAttachments\u001b[0m\u001b[1;33m\u001b[0m\u001b[0m\n\u001b[0;32m      9\u001b[0m         \u001b[1;32mfor\u001b[0m \u001b[0mi\u001b[0m \u001b[1;32min\u001b[0m \u001b[0matt\u001b[0m\u001b[1;33m:\u001b[0m\u001b[1;33m\u001b[0m\u001b[0m\n",
      "\u001b[1;32mC:\\Program Files (x86)\\Microsoft Visual Studio\\Shared\\Anaconda3_64\\lib\\site-packages\\win32com\\client\\dynamic.py\u001b[0m in \u001b[0;36mOpenSharedItem\u001b[1;34m(self, Path)\u001b[0m\n",
      "\u001b[1;31mcom_error\u001b[0m: (-2147352567, 'Exception occurred.', (4096, 'Microsoft Outlook', \"We can't open 'BS Missing Time and National DA GIA Availability Dashboard & Staff Schedules - M...'. It's possible the file is already open, or you don't have permission to open it.\\n\\nTo check your permissions, right-click the file folder, then click Properties.\", None, 0, -2147287038), None)"
     ]
    }
   ],
   "source": [
    "import win32com.client\n",
    "import os\n",
    "files = [f for f in os.listdir('.') if os.path.isfile(f)]\n",
    "for file in files:\n",
    "    if file.endswith(\".msg\"):\n",
    "        outlook = win32com.client.Dispatch(\"Outlook.Application\").GetNamespace(\"MAPI\")\n",
    "        msg = outlook.OpenSharedItem(file)        \n",
    "        att=msg.Attachments\n",
    "        for i in att:\n",
    "            i.SaveAsFile(os.path.join(Pathname, i.FileName))#Saves the file with the attachment name\n"
   ]
  },
  {
   "cell_type": "code",
   "execution_count": 31,
   "metadata": {},
   "outputs": [
    {
     "data": {
      "text/plain": [
       "['BS Missing Time and National DA GIA Availability Dashboard & Staff Schedules - Mar 24 2019.msg',\n",
       " 'IBS Missing Time and National DA GIA Availability Dashboard & Staff Schedules - Apr 14 2019.msg',\n",
       " 'IBS Missing Time and National DA GIA Availability Dashboard & Staff Schedules - Apr 21 2019.msg',\n",
       " 'IBS Missing Time and National DA GIA Availability Dashboard & Staff Schedules - Apr 28 2019.msg',\n",
       " 'IBS Missing Time and National DA GIA Availability Dashboard & Staff Schedules - Apr 7 2019.msg',\n",
       " 'IBS Missing Time and National DA GIA Availability Dashboard & Staff Schedules - Feb 11  2019.msg',\n",
       " 'IBS Missing Time and National DA GIA Availability Dashboard & Staff Schedules - Feb 119 2019.msg',\n",
       " 'IBS Missing Time and National DA GIA Availability Dashboard & Staff Schedules - Feb 25 2019.msg',\n",
       " 'IBS Missing Time and National DA GIA Availability Dashboard & Staff Schedules - Feb 4  2019.msg',\n",
       " 'IBS Missing Time and National DA GIA Availability Dashboard & Staff Schedules - Jan 28  2019.msg',\n",
       " 'IBS Missing Time and National DA GIA Availability Dashboard & Staff Schedules - June 16  2019.msg',\n",
       " 'IBS Missing Time and National DA GIA Availability Dashboard & Staff Schedules - June 2  2019.msg',\n",
       " 'IBS Missing Time and National DA GIA Availability Dashboard & Staff Schedules - June 9  2019.msg',\n",
       " 'IBS Missing Time and National DA GIA Availability Dashboard & Staff Schedules - Mar 10 2019.msg',\n",
       " 'IBS Missing Time and National DA GIA Availability Dashboard & Staff Schedules - Mar 17 2019.msg',\n",
       " 'IBS Missing Time and National DA GIA Availability Dashboard & Staff Schedules - Mar 3 2019.msg',\n",
       " 'IBS Missing Time and National DA GIA Availability Dashboard & Staff Schedules - Mar 31 2019.msg',\n",
       " 'IBS Missing Time and National DA GIA Availability Dashboard & Staff Schedules - May 12 2019.msg',\n",
       " 'IBS Missing Time and National DA GIA Availability Dashboard & Staff Schedules - May 20 2019.msg',\n",
       " 'IBS Missing Time and National DA GIA Availability Dashboard & Staff Schedules - May 26 2019.msg',\n",
       " 'IBS Missing Time and National DA GIA Availability Dashboard & Staff Schedules - May 5 2019.msg']"
      ]
     },
     "execution_count": 31,
     "metadata": {},
     "output_type": "execute_result"
    }
   ],
   "source": [
    "os.listdir('Data') "
   ]
  },
  {
   "cell_type": "code",
   "execution_count": 21,
   "metadata": {},
   "outputs": [
    {
     "ename": "FileNotFoundError",
     "evalue": "[WinError 2] The system cannot find the file specified: '/Data'",
     "output_type": "error",
     "traceback": [
      "\u001b[1;31m---------------------------------------------------------------------------\u001b[0m",
      "\u001b[1;31mFileNotFoundError\u001b[0m                         Traceback (most recent call last)",
      "\u001b[1;32m<ipython-input-21-c4045b73bd57>\u001b[0m in \u001b[0;36m<module>\u001b[1;34m()\u001b[0m\n\u001b[0;32m      1\u001b[0m \u001b[1;32mimport\u001b[0m \u001b[0mglob\u001b[0m\u001b[1;33m,\u001b[0m \u001b[0mos\u001b[0m\u001b[1;33m\u001b[0m\u001b[0m\n\u001b[1;32m----> 2\u001b[1;33m \u001b[0mos\u001b[0m\u001b[1;33m.\u001b[0m\u001b[0mchdir\u001b[0m\u001b[1;33m(\u001b[0m\u001b[1;34m\"/Data\"\u001b[0m\u001b[1;33m)\u001b[0m\u001b[1;33m\u001b[0m\u001b[0m\n\u001b[0m\u001b[0;32m      3\u001b[0m \u001b[1;32mfor\u001b[0m \u001b[0mfile\u001b[0m \u001b[1;32min\u001b[0m \u001b[0mglob\u001b[0m\u001b[1;33m.\u001b[0m\u001b[0mglob\u001b[0m\u001b[1;33m(\u001b[0m\u001b[1;34m\"*.msg\"\u001b[0m\u001b[1;33m)\u001b[0m\u001b[1;33m:\u001b[0m\u001b[1;33m\u001b[0m\u001b[0m\n\u001b[0;32m      4\u001b[0m     \u001b[0mprint\u001b[0m\u001b[1;33m(\u001b[0m\u001b[0mfile\u001b[0m\u001b[1;33m)\u001b[0m\u001b[1;33m\u001b[0m\u001b[0m\n",
      "\u001b[1;31mFileNotFoundError\u001b[0m: [WinError 2] The system cannot find the file specified: '/Data'"
     ]
    }
   ],
   "source": [
    "import glob, os\n",
    "os.chdir(\"/Data\")\n",
    "for file in glob.glob(\"*.msg\"):\n",
    "    print(file)"
   ]
  },
  {
   "cell_type": "code",
   "execution_count": 24,
   "metadata": {},
   "outputs": [
    {
     "data": {
      "text/plain": [
       "['BS Missing Time and National DA GIA Availability Dashboard & Staff Schedules - Mar 24 2019.msg',\n",
       " 'IBS Missing Time and National DA GIA Availability Dashboard & Staff Schedules - Apr 14 2019.msg',\n",
       " 'IBS Missing Time and National DA GIA Availability Dashboard & Staff Schedules - Apr 21 2019.msg',\n",
       " 'IBS Missing Time and National DA GIA Availability Dashboard & Staff Schedules - Apr 28 2019.msg',\n",
       " 'IBS Missing Time and National DA GIA Availability Dashboard & Staff Schedules - Apr 7 2019.msg',\n",
       " 'IBS Missing Time and National DA GIA Availability Dashboard & Staff Schedules - Feb 11  2019.msg',\n",
       " 'IBS Missing Time and National DA GIA Availability Dashboard & Staff Schedules - Feb 119 2019.msg',\n",
       " 'IBS Missing Time and National DA GIA Availability Dashboard & Staff Schedules - Feb 25 2019.msg',\n",
       " 'IBS Missing Time and National DA GIA Availability Dashboard & Staff Schedules - Feb 4  2019.msg',\n",
       " 'IBS Missing Time and National DA GIA Availability Dashboard & Staff Schedules - Jan 28  2019.msg',\n",
       " 'IBS Missing Time and National DA GIA Availability Dashboard & Staff Schedules - June 16  2019.msg',\n",
       " 'IBS Missing Time and National DA GIA Availability Dashboard & Staff Schedules - June 2  2019.msg',\n",
       " 'IBS Missing Time and National DA GIA Availability Dashboard & Staff Schedules - June 9  2019.msg',\n",
       " 'IBS Missing Time and National DA GIA Availability Dashboard & Staff Schedules - Mar 10 2019.msg',\n",
       " 'IBS Missing Time and National DA GIA Availability Dashboard & Staff Schedules - Mar 17 2019.msg',\n",
       " 'IBS Missing Time and National DA GIA Availability Dashboard & Staff Schedules - Mar 3 2019.msg',\n",
       " 'IBS Missing Time and National DA GIA Availability Dashboard & Staff Schedules - Mar 31 2019.msg',\n",
       " 'IBS Missing Time and National DA GIA Availability Dashboard & Staff Schedules - May 12 2019.msg',\n",
       " 'IBS Missing Time and National DA GIA Availability Dashboard & Staff Schedules - May 20 2019.msg',\n",
       " 'IBS Missing Time and National DA GIA Availability Dashboard & Staff Schedules - May 26 2019.msg',\n",
       " 'IBS Missing Time and National DA GIA Availability Dashboard & Staff Schedules - May 5 2019.msg']"
      ]
     },
     "execution_count": 24,
     "metadata": {},
     "output_type": "execute_result"
    }
   ],
   "source": [
    "os.listdir('Data')"
   ]
  }
 ],
 "metadata": {
  "kernelspec": {
   "display_name": "Python 3",
   "language": "python",
   "name": "python3"
  },
  "language_info": {
   "codemirror_mode": {
    "name": "ipython",
    "version": 3
   },
   "file_extension": ".py",
   "mimetype": "text/x-python",
   "name": "python",
   "nbconvert_exporter": "python",
   "pygments_lexer": "ipython3",
   "version": "3.6.5"
  }
 },
 "nbformat": 4,
 "nbformat_minor": 2
}
