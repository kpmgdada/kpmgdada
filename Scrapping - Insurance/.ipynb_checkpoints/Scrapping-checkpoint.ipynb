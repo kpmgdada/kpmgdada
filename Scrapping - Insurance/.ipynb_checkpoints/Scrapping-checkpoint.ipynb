{
 "cells": [
  {
   "cell_type": "code",
   "execution_count": 14,
   "metadata": {},
   "outputs": [],
   "source": [
    "from requests import get\n",
    "from requests.exceptions import RequestException\n",
    "from contextlib import closing\n",
    "from bs4 import BeautifulSoup\n",
    "import requests"
   ]
  },
  {
   "cell_type": "code",
   "execution_count": 55,
   "metadata": {},
   "outputs": [
    {
     "data": {
      "text/plain": [
       "4641"
      ]
     },
     "execution_count": 55,
     "metadata": {},
     "output_type": "execute_result"
    }
   ],
   "source": [
    "HTML=\"https://membership.ribo.com/Thinclient/Public/PR/EN/#/forms/new/?table=0x800000000000003D&form=0x800000000000004D&command=0x8000000000000C2D\"\n",
    "\n",
    "raw_html = simple_get(HTML)\n",
    "page_response = requests.get(HTML, timeout=5)\n",
    "len(raw_html)\n"
   ]
  },
  {
   "cell_type": "code",
   "execution_count": 51,
   "metadata": {},
   "outputs": [],
   "source": [
    "page_content = BeautifulSoup(page_response.content, \"html.parser\")\n"
   ]
  },
  {
   "cell_type": "code",
   "execution_count": 26,
   "metadata": {},
   "outputs": [],
   "source": [
    "textContent = []\n",
    "for i in range(0, 0):\n",
    "    paragraphs = page_content.find_all(\"link\")[i].text\n",
    "    textContent.append(paragraphs)"
   ]
  },
  {
   "cell_type": "code",
   "execution_count": 219,
   "metadata": {},
   "outputs": [
    {
     "name": "stdout",
     "output_type": "stream",
     "text": [
      "https://membership.ribo.com/Thinclient/Public/PR/EN/#/forms/new/?table=0x800000000000003D&form=0x800000000000004D&command=0x8000000000000C2D\n",
      "Number of results 0\n"
     ]
    }
   ],
   "source": [
    "# import libraries\n",
    "import urllib.request\n",
    "from bs4 import BeautifulSoup\n",
    "# specify the url\n",
    "# urlpage = 'https://groceries.asda.com/search/yogurt' \n",
    "# urlpage = \"https://stackoverflow.com/questions/8049520/web-scraping-javascript-page-with-python\"\n",
    "urlpage =HTML\n",
    "print(urlpage)\n",
    "# query the website and return the html to the variable 'page'\n",
    "page = urllib.request.urlopen(urlpage)\n",
    "# parse the html using beautiful soup and store in variable 'soup'\n",
    "soup = BeautifulSoup(page, 'html.parser')\n",
    "# find product items\n",
    "results = soup.find_all('div', attrs={'class': \"bulletin-item-content\"})\n",
    "print('Number of results', len(results))"
   ]
  },
  {
   "cell_type": "code",
   "execution_count": 263,
   "metadata": {
    "scrolled": true
   },
   "outputs": [],
   "source": [
    "from selenium import webdriver\n",
    "from selenium.webdriver.common.by import By\n",
    "from selenium.webdriver.support.ui import WebDriverWait\n",
    "from selenium.webdriver.support import expected_conditions as EC\n",
    "import time\n",
    "\n",
    "# website = \"http://www.python.org\"\n",
    "website =\"https://membership.ribo.com/Thinclient/Public/PR/EN/#/forms/new/?table=0x800000000000003D&form=0x800000000000004D&command=0x8000000000000C2D\"\n",
    "\n",
    "driver = webdriver.Firefox()\n",
    "driver.get(website)\n",
    "assert \"RIBO\" in driver.title\n",
    "time.sleep(2)\n",
    "elem = driver.find_element_by_name(\"pid35\").click()\n",
    "xpath = \"//*[@id='FirmSearchParams']//*[contains(@id,'firmName')]//*[@class='col-sm-8']//*[@type='text']\"\n",
    "textbox=driver.find_element_by_xpath(xpath)\n",
    "# textbox=driver.find_elements_by_tag_name(\"broker\")\n",
    "# textbox.click()\n",
    "textbox.send_keys(\"broker\",Keys.ENTER)\n"
   ]
  },
  {
   "cell_type": "code",
   "execution_count": null,
   "metadata": {
    "scrolled": true
   },
   "outputs": [],
   "source": [
    "\n",
    "time.sleep(1)\n",
    "\n",
    "for i in range(5):\n",
    "    xpath = \"//*[@id='FirmResultTable']//*[contains(@class,'col-xs-12')]//*[contains(@href,'#')]\"\n",
    "    afirm=driver.find_elements_by_xpath(xpath)\n",
    "    for onefirm in afirm:\n",
    "        onefirm.click()\n",
    "        xpath = \"//*[@id='companyProfileDiv']//*[contains(@class,'col-sm-8')]\"\n",
    "        firm=driver.find_elements_by_xpath(xpath)\n",
    "        print(firm[0].text,firm[1].text,firm[2].text,firm[3].text,firm[4].text,firm[5].text)\n",
    "\n",
    "        xpath = \"//*[@class='k-icon k-i-close']\"\n",
    "        closing=driver.find_element_by_xpath(xpath)\n",
    "        closing.click()\n",
    "\n",
    "    xpath = \"//*[@class='next']//*[@href='javascript:void(0);']\"\n",
    "    nextbutton=driver.find_element_by_xpath(xpath)\n",
    "    # actions = ActionChains(driver)\n",
    "    # actions.move_to_element(nextbutton).perform()\n",
    "    nextbutton.click()\n",
    "    time.sleep(1)"
   ]
  },
  {
   "cell_type": "code",
   "execution_count": 268,
   "metadata": {},
   "outputs": [
    {
     "data": {
      "text/plain": [
       "[<selenium.webdriver.firefox.webelement.FirefoxWebElement (session=\"b705bc7d-9100-43ac-bef0-adc1746e315e\", element=\"c007ca41-1492-48f7-ba1d-a7f9eb028fd8\")>,\n",
       " <selenium.webdriver.firefox.webelement.FirefoxWebElement (session=\"b705bc7d-9100-43ac-bef0-adc1746e315e\", element=\"ec2f24c7-e1c9-4ce1-8115-15ddee5fbef9\")>,\n",
       " <selenium.webdriver.firefox.webelement.FirefoxWebElement (session=\"b705bc7d-9100-43ac-bef0-adc1746e315e\", element=\"84387e37-6da7-49bb-a171-91afe1d2255a\")>,\n",
       " <selenium.webdriver.firefox.webelement.FirefoxWebElement (session=\"b705bc7d-9100-43ac-bef0-adc1746e315e\", element=\"a0082596-6fca-457c-8b18-061ed74baa27\")>,\n",
       " <selenium.webdriver.firefox.webelement.FirefoxWebElement (session=\"b705bc7d-9100-43ac-bef0-adc1746e315e\", element=\"da4d9bdc-fcce-452f-a93c-15f7e9f6bbd7\")>,\n",
       " <selenium.webdriver.firefox.webelement.FirefoxWebElement (session=\"b705bc7d-9100-43ac-bef0-adc1746e315e\", element=\"83da41d1-6975-4af8-bc05-ad03d9d60e5a\")>,\n",
       " <selenium.webdriver.firefox.webelement.FirefoxWebElement (session=\"b705bc7d-9100-43ac-bef0-adc1746e315e\", element=\"4e8ba881-1627-4819-89e0-992efeac80bb\")>,\n",
       " <selenium.webdriver.firefox.webelement.FirefoxWebElement (session=\"b705bc7d-9100-43ac-bef0-adc1746e315e\", element=\"596be24f-c193-4b3d-adf0-b05e47eca28e\")>,\n",
       " <selenium.webdriver.firefox.webelement.FirefoxWebElement (session=\"b705bc7d-9100-43ac-bef0-adc1746e315e\", element=\"d84f1b6d-5d32-4ab9-9f43-f217ffaf1026\")>,\n",
       " <selenium.webdriver.firefox.webelement.FirefoxWebElement (session=\"b705bc7d-9100-43ac-bef0-adc1746e315e\", element=\"bb2e3ecf-ef07-41fb-aa8c-f02eebefd932\")>]"
      ]
     },
     "execution_count": 268,
     "metadata": {},
     "output_type": "execute_result"
    }
   ],
   "source": [
    "afirm"
   ]
  },
  {
   "cell_type": "code",
   "execution_count": null,
   "metadata": {},
   "outputs": [],
   "source": [
    "xpath = \"//*[@id='FirmResultTable']//*[contains(@class,'col-xs-12')]//*[contains(@href,'#')]\"\n",
    "afirm=driver.find_elements_by_xpath(xpath)\n",
    "afirm[1].click()"
   ]
  },
  {
   "cell_type": "code",
   "execution_count": null,
   "metadata": {},
   "outputs": [],
   "source": [
    "page = 1\n",
    "index=0\n",
    "data=[]\n",
    "xpath = \"//*[@id='FirmResultTable']//*[contains(@class,'col-xs-12')]//*[contains(@href,'#')]\"\n",
    "afirm=driver.find_elements_by_xpath(xpath)\n",
    "for onefirm in afirm:\n",
    "    onefirm.click()\n",
    "\n",
    "    xpath = \"//*[@id='companyProfileDiv']//*[contains(@class,'col-sm-8')]\"\n",
    "    firm=driver.find_elements_by_xpath(xpath)\n",
    "    print(firm[0].text,firm[1].text,firm[2].text,firm[3].text,firm[4].text,firm[5].text)\n",
    "\n",
    "    xpath = \"//*[@class='k-icon k-i-close']\"\n",
    "    closing=driver.find_element_by_xpath(xpath)\n",
    "    closing.click()\n",
    "\n",
    "xpath = \"//*[@class='next']//*[@href='javascript:void(0);']\"\n",
    "nextbutton=driver.find_element_by_xpath(xpath)\n",
    "# actions = ActionChains(driver)\n",
    "# actions.move_to_element(nextbutton).perform()\n",
    "nextbutton.click()\n",
    "time.sleep(1)"
   ]
  },
  {
   "cell_type": "code",
   "execution_count": null,
   "metadata": {},
   "outputs": [],
   "source": [
    "\n",
    "for i in range(1,5):\n",
    "    xpath = \"//*[@data-lp=\"+str(i)+\"]//*[@href='javascript:void(0);']\"\n",
    "    page=driver.find_element_by_xpath(xpath)\n",
    "    page.click()\n"
   ]
  },
  {
   "cell_type": "code",
   "execution_count": null,
   "metadata": {},
   "outputs": [],
   "source": [
    "onefirm.click()\n",
    "\n",
    "xpath = \"//*[@id='companyProfileDiv']//*[contains(@class,'col-sm-8')]\"\n",
    "firm=driver.find_elements_by_xpath(xpath)\n",
    "print(firm[0].text,firm[1].text,firm[2].text,firm[3].text,firm[4].text,firm[5].text)\n",
    "\n",
    "firm[1].text"
   ]
  },
  {
   "cell_type": "code",
   "execution_count": null,
   "metadata": {},
   "outputs": [],
   "source": [
    "data[1,:]=[firm[0].text,firm[1].text,firm[2].text,firm[3].text,firm[4].text,firm[5].text]"
   ]
  },
  {
   "cell_type": "code",
   "execution_count": null,
   "metadata": {},
   "outputs": [],
   "source": [
    "assert \"No results found.\" not in driver.page_source\n",
    "driver.close()"
   ]
  }
 ],
 "metadata": {
  "kernelspec": {
   "display_name": "Python 3",
   "language": "python",
   "name": "python3"
  },
  "language_info": {
   "codemirror_mode": {
    "name": "ipython",
    "version": 3
   },
   "file_extension": ".py",
   "mimetype": "text/x-python",
   "name": "python",
   "nbconvert_exporter": "python",
   "pygments_lexer": "ipython3",
   "version": "3.7.1"
  }
 },
 "nbformat": 4,
 "nbformat_minor": 2
}
